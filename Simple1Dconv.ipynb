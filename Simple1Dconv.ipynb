{
 "cells": [
  {
   "cell_type": "code",
   "execution_count": 8,
   "metadata": {},
   "outputs": [],
   "source": [
    "import time\n",
    "from numba import njit\n",
    "import numpy as np\n"
   ]
  },
  {
   "cell_type": "code",
   "execution_count": 9,
   "metadata": {},
   "outputs": [],
   "source": [
    "@njit\n",
    "def conv_1D(signal, kernal):\n",
    "  n_sig=signal.size\n",
    "  n_ker=kernal.size\n",
    "  n_conv=n_sig-n_ker+1\n",
    "  rev_ker=kernal[::-1].copy()\n",
    "  result=np.zeros[n_conv]\n",
    "  for i_conv in range(n_conv):\n",
    "    result[i_conv]=np.dot(signal[i_conv, i_conv+n_ker], rev_ker)\n",
    "  return result"
   ]
  }
 ],
 "metadata": {
  "kernelspec": {
   "display_name": "Python 3",
   "language": "python",
   "name": "python3"
  },
  "language_info": {
   "codemirror_mode": {
    "name": "ipython",
    "version": 3
   },
   "file_extension": ".py",
   "mimetype": "text/x-python",
   "name": "python",
   "nbconvert_exporter": "python",
   "pygments_lexer": "ipython3",
   "version": "3.10.11"
  }
 },
 "nbformat": 4,
 "nbformat_minor": 2
}
